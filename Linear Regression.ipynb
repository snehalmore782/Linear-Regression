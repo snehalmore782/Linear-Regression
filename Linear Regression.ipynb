{
 "cells": [
  {
   "cell_type": "markdown",
   "metadata": {},
   "source": [
    "# Linear Regression"
   ]
  },
  {
   "cell_type": "code",
   "execution_count": 42,
   "metadata": {},
   "outputs": [],
   "source": [
    "# import libraries\n",
    "import numpy as np\n",
    "import pandas as pd\n",
    "\n",
    "import matplotlib.pyplot as plt\n",
    "import seaborn as sb\n",
    "%matplotlib inline"
   ]
  },
  {
   "cell_type": "code",
   "execution_count": 43,
   "metadata": {},
   "outputs": [],
   "source": [
    "cars=pd.read_csv(\"/home/shyam/Documents/Data Science/Data-Science-master/datasets/cars.csv\") # import data"
   ]
  },
  {
   "cell_type": "code",
   "execution_count": 44,
   "metadata": {},
   "outputs": [
    {
     "data": {
      "text/html": [
       "<div>\n",
       "<style scoped>\n",
       "    .dataframe tbody tr th:only-of-type {\n",
       "        vertical-align: middle;\n",
       "    }\n",
       "\n",
       "    .dataframe tbody tr th {\n",
       "        vertical-align: top;\n",
       "    }\n",
       "\n",
       "    .dataframe thead th {\n",
       "        text-align: right;\n",
       "    }\n",
       "</style>\n",
       "<table border=\"1\" class=\"dataframe\">\n",
       "  <thead>\n",
       "    <tr style=\"text-align: right;\">\n",
       "      <th></th>\n",
       "      <th>car_model</th>\n",
       "      <th>mpg</th>\n",
       "      <th>cyl</th>\n",
       "      <th>disp</th>\n",
       "      <th>hp</th>\n",
       "      <th>drat</th>\n",
       "      <th>wt</th>\n",
       "      <th>qsec</th>\n",
       "      <th>vs</th>\n",
       "      <th>am</th>\n",
       "      <th>gear</th>\n",
       "      <th>carb</th>\n",
       "    </tr>\n",
       "  </thead>\n",
       "  <tbody>\n",
       "    <tr>\n",
       "      <th>0</th>\n",
       "      <td>Mazda RX4</td>\n",
       "      <td>21.0</td>\n",
       "      <td>6</td>\n",
       "      <td>160.0</td>\n",
       "      <td>110</td>\n",
       "      <td>3.90</td>\n",
       "      <td>2.620</td>\n",
       "      <td>16.46</td>\n",
       "      <td>0</td>\n",
       "      <td>1</td>\n",
       "      <td>4</td>\n",
       "      <td>4</td>\n",
       "    </tr>\n",
       "    <tr>\n",
       "      <th>1</th>\n",
       "      <td>Mazda RX4 Wag</td>\n",
       "      <td>21.0</td>\n",
       "      <td>6</td>\n",
       "      <td>160.0</td>\n",
       "      <td>110</td>\n",
       "      <td>3.90</td>\n",
       "      <td>2.875</td>\n",
       "      <td>17.02</td>\n",
       "      <td>0</td>\n",
       "      <td>1</td>\n",
       "      <td>4</td>\n",
       "      <td>4</td>\n",
       "    </tr>\n",
       "    <tr>\n",
       "      <th>2</th>\n",
       "      <td>Datsun 710</td>\n",
       "      <td>22.8</td>\n",
       "      <td>4</td>\n",
       "      <td>108.0</td>\n",
       "      <td>93</td>\n",
       "      <td>3.85</td>\n",
       "      <td>2.320</td>\n",
       "      <td>18.61</td>\n",
       "      <td>1</td>\n",
       "      <td>1</td>\n",
       "      <td>4</td>\n",
       "      <td>1</td>\n",
       "    </tr>\n",
       "    <tr>\n",
       "      <th>3</th>\n",
       "      <td>Hornet 4 Drive</td>\n",
       "      <td>21.4</td>\n",
       "      <td>6</td>\n",
       "      <td>258.0</td>\n",
       "      <td>110</td>\n",
       "      <td>3.08</td>\n",
       "      <td>3.215</td>\n",
       "      <td>19.44</td>\n",
       "      <td>1</td>\n",
       "      <td>0</td>\n",
       "      <td>3</td>\n",
       "      <td>1</td>\n",
       "    </tr>\n",
       "    <tr>\n",
       "      <th>4</th>\n",
       "      <td>Hornet Sportabout</td>\n",
       "      <td>18.7</td>\n",
       "      <td>8</td>\n",
       "      <td>360.0</td>\n",
       "      <td>175</td>\n",
       "      <td>3.15</td>\n",
       "      <td>3.440</td>\n",
       "      <td>17.02</td>\n",
       "      <td>0</td>\n",
       "      <td>0</td>\n",
       "      <td>3</td>\n",
       "      <td>2</td>\n",
       "    </tr>\n",
       "  </tbody>\n",
       "</table>\n",
       "</div>"
      ],
      "text/plain": [
       "           car_model   mpg  cyl   disp   hp  drat     wt   qsec  vs  am  gear  \\\n",
       "0          Mazda RX4  21.0    6  160.0  110  3.90  2.620  16.46   0   1     4   \n",
       "1      Mazda RX4 Wag  21.0    6  160.0  110  3.90  2.875  17.02   0   1     4   \n",
       "2         Datsun 710  22.8    4  108.0   93  3.85  2.320  18.61   1   1     4   \n",
       "3     Hornet 4 Drive  21.4    6  258.0  110  3.08  3.215  19.44   1   0     3   \n",
       "4  Hornet Sportabout  18.7    8  360.0  175  3.15  3.440  17.02   0   0     3   \n",
       "\n",
       "   carb  \n",
       "0     4  \n",
       "1     4  \n",
       "2     1  \n",
       "3     1  \n",
       "4     2  "
      ]
     },
     "execution_count": 44,
     "metadata": {},
     "output_type": "execute_result"
    }
   ],
   "source": [
    "cars.head()   # first five"
   ]
  },
  {
   "cell_type": "code",
   "execution_count": 45,
   "metadata": {},
   "outputs": [
    {
     "data": {
      "text/plain": [
       "(32, 12)"
      ]
     },
     "execution_count": 45,
     "metadata": {},
     "output_type": "execute_result"
    }
   ],
   "source": [
    "cars.shape  # dimensions"
   ]
  },
  {
   "cell_type": "code",
   "execution_count": 46,
   "metadata": {},
   "outputs": [
    {
     "data": {
      "text/plain": [
       "car_model    0\n",
       "mpg          0\n",
       "cyl          0\n",
       "disp         0\n",
       "hp           0\n",
       "drat         0\n",
       "wt           0\n",
       "qsec         0\n",
       "vs           0\n",
       "am           0\n",
       "gear         0\n",
       "carb         0\n",
       "dtype: int64"
      ]
     },
     "execution_count": 46,
     "metadata": {},
     "output_type": "execute_result"
    }
   ],
   "source": [
    "cars.isnull().sum()   #  Exploratory data analysis  and cleaning process"
   ]
  },
  {
   "cell_type": "code",
   "execution_count": 47,
   "metadata": {},
   "outputs": [
    {
     "name": "stdout",
     "output_type": "stream",
     "text": [
      "<class 'pandas.core.frame.DataFrame'>\n",
      "RangeIndex: 32 entries, 0 to 31\n",
      "Data columns (total 12 columns):\n",
      "car_model    32 non-null object\n",
      "mpg          32 non-null float64\n",
      "cyl          32 non-null int64\n",
      "disp         32 non-null float64\n",
      "hp           32 non-null int64\n",
      "drat         32 non-null float64\n",
      "wt           32 non-null float64\n",
      "qsec         32 non-null float64\n",
      "vs           32 non-null int64\n",
      "am           32 non-null int64\n",
      "gear         32 non-null int64\n",
      "carb         32 non-null int64\n",
      "dtypes: float64(5), int64(6), object(1)\n",
      "memory usage: 3.1+ KB\n"
     ]
    }
   ],
   "source": [
    "cars.info()"
   ]
  },
  {
   "cell_type": "code",
   "execution_count": 48,
   "metadata": {},
   "outputs": [],
   "source": [
    "#cars=cars.fillna(cars.mean()) for replacing null values"
   ]
  },
  {
   "cell_type": "code",
   "execution_count": 49,
   "metadata": {},
   "outputs": [],
   "source": [
    "#cars.isnull().sum()"
   ]
  },
  {
   "cell_type": "code",
   "execution_count": 50,
   "metadata": {},
   "outputs": [
    {
     "name": "stdout",
     "output_type": "stream",
     "text": [
      "Percent of missing \"hp\" records is 0.00%\n"
     ]
    }
   ],
   "source": [
    "print('Percent of missing \"hp\" records is %.2f%%' %((cars['hp'].isnull().sum()/cars.shape[0])*100))"
   ]
  },
  {
   "cell_type": "markdown",
   "metadata": {},
   "source": [
    "import seaborn as sns\n",
    "df_corr = someDataFrame.corr()\n",
    "ax = sns.heatmap(df_corr, annot=True) #notation: \"annot\" not \"annote\"\n",
    "bottom, top = ax.get_ylim()\n",
    "ax.set_ylim(bottom + 0.5, top - 0.5)\n",
    "### for changes in plot cutoff bottom or top"
   ]
  },
  {
   "cell_type": "code",
   "execution_count": 51,
   "metadata": {},
   "outputs": [
    {
     "data": {
      "text/plain": [
       "<matplotlib.axes._subplots.AxesSubplot at 0x7fa1e8310da0>"
      ]
     },
     "execution_count": 51,
     "metadata": {},
     "output_type": "execute_result"
    },
    {
     "data": {
      "image/png": "[encoded data removed]",
      "text/plain": [
       "<Figure size 720x720 with 2 Axes>"
      ]
     },
     "metadata": {
      "needs_background": "light"
     },
     "output_type": "display_data"
    }
   ],
   "source": [
    "plt.figure(figsize=(10,10)) \n",
    "sb.heatmap(cars.corr() , linewidths=5 , annot=True)\n"
   ]
  },
  {
   "cell_type": "code",
   "execution_count": 52,
   "metadata": {},
   "outputs": [
    {
     "data": {
      "text/html": [
       "<div>\n",
       "<style scoped>\n",
       "    .dataframe tbody tr th:only-of-type {\n",
       "        vertical-align: middle;\n",
       "    }\n",
       "\n",
       "    .dataframe tbody tr th {\n",
       "        vertical-align: top;\n",
       "    }\n",
       "\n",
       "    .dataframe thead th {\n",
       "        text-align: right;\n",
       "    }\n",
       "</style>\n",
       "<table border=\"1\" class=\"dataframe\">\n",
       "  <thead>\n",
       "    <tr style=\"text-align: right;\">\n",
       "      <th></th>\n",
       "      <th>mpg</th>\n",
       "      <th>cyl</th>\n",
       "      <th>disp</th>\n",
       "      <th>hp</th>\n",
       "      <th>drat</th>\n",
       "      <th>wt</th>\n",
       "      <th>qsec</th>\n",
       "      <th>vs</th>\n",
       "      <th>am</th>\n",
       "      <th>gear</th>\n",
       "      <th>carb</th>\n",
       "    </tr>\n",
       "  </thead>\n",
       "  <tbody>\n",
       "    <tr>\n",
       "      <th>mpg</th>\n",
       "      <td>1.000000</td>\n",
       "      <td>-0.852162</td>\n",
       "      <td>-0.847551</td>\n",
       "      <td>-0.776168</td>\n",
       "      <td>0.681172</td>\n",
       "      <td>-0.867659</td>\n",
       "      <td>0.418684</td>\n",
       "      <td>0.664039</td>\n",
       "      <td>0.599832</td>\n",
       "      <td>0.480285</td>\n",
       "      <td>-0.550925</td>\n",
       "    </tr>\n",
       "    <tr>\n",
       "      <th>cyl</th>\n",
       "      <td>-0.852162</td>\n",
       "      <td>1.000000</td>\n",
       "      <td>0.902033</td>\n",
       "      <td>0.832447</td>\n",
       "      <td>-0.699938</td>\n",
       "      <td>0.782496</td>\n",
       "      <td>-0.591242</td>\n",
       "      <td>-0.810812</td>\n",
       "      <td>-0.522607</td>\n",
       "      <td>-0.492687</td>\n",
       "      <td>0.526988</td>\n",
       "    </tr>\n",
       "    <tr>\n",
       "      <th>disp</th>\n",
       "      <td>-0.847551</td>\n",
       "      <td>0.902033</td>\n",
       "      <td>1.000000</td>\n",
       "      <td>0.790949</td>\n",
       "      <td>-0.710214</td>\n",
       "      <td>0.887980</td>\n",
       "      <td>-0.433698</td>\n",
       "      <td>-0.710416</td>\n",
       "      <td>-0.591227</td>\n",
       "      <td>-0.555569</td>\n",
       "      <td>0.394977</td>\n",
       "    </tr>\n",
       "    <tr>\n",
       "      <th>hp</th>\n",
       "      <td>-0.776168</td>\n",
       "      <td>0.832447</td>\n",
       "      <td>0.790949</td>\n",
       "      <td>1.000000</td>\n",
       "      <td>-0.448759</td>\n",
       "      <td>0.658748</td>\n",
       "      <td>-0.708223</td>\n",
       "      <td>-0.723097</td>\n",
       "      <td>-0.243204</td>\n",
       "      <td>-0.125704</td>\n",
       "      <td>0.749812</td>\n",
       "    </tr>\n",
       "    <tr>\n",
       "      <th>drat</th>\n",
       "      <td>0.681172</td>\n",
       "      <td>-0.699938</td>\n",
       "      <td>-0.710214</td>\n",
       "      <td>-0.448759</td>\n",
       "      <td>1.000000</td>\n",
       "      <td>-0.712441</td>\n",
       "      <td>0.091205</td>\n",
       "      <td>0.440278</td>\n",
       "      <td>0.712711</td>\n",
       "      <td>0.699610</td>\n",
       "      <td>-0.090790</td>\n",
       "    </tr>\n",
       "    <tr>\n",
       "      <th>wt</th>\n",
       "      <td>-0.867659</td>\n",
       "      <td>0.782496</td>\n",
       "      <td>0.887980</td>\n",
       "      <td>0.658748</td>\n",
       "      <td>-0.712441</td>\n",
       "      <td>1.000000</td>\n",
       "      <td>-0.174716</td>\n",
       "      <td>-0.554916</td>\n",
       "      <td>-0.692495</td>\n",
       "      <td>-0.583287</td>\n",
       "      <td>0.427606</td>\n",
       "    </tr>\n",
       "    <tr>\n",
       "      <th>qsec</th>\n",
       "      <td>0.418684</td>\n",
       "      <td>-0.591242</td>\n",
       "      <td>-0.433698</td>\n",
       "      <td>-0.708223</td>\n",
       "      <td>0.091205</td>\n",
       "      <td>-0.174716</td>\n",
       "      <td>1.000000</td>\n",
       "      <td>0.744535</td>\n",
       "      <td>-0.229861</td>\n",
       "      <td>-0.212682</td>\n",
       "      <td>-0.656249</td>\n",
       "    </tr>\n",
       "    <tr>\n",
       "      <th>vs</th>\n",
       "      <td>0.664039</td>\n",
       "      <td>-0.810812</td>\n",
       "      <td>-0.710416</td>\n",
       "      <td>-0.723097</td>\n",
       "      <td>0.440278</td>\n",
       "      <td>-0.554916</td>\n",
       "      <td>0.744535</td>\n",
       "      <td>1.000000</td>\n",
       "      <td>0.168345</td>\n",
       "      <td>0.206023</td>\n",
       "      <td>-0.569607</td>\n",
       "    </tr>\n",
       "    <tr>\n",
       "      <th>am</th>\n",
       "      <td>0.599832</td>\n",
       "      <td>-0.522607</td>\n",
       "      <td>-0.591227</td>\n",
       "      <td>-0.243204</td>\n",
       "      <td>0.712711</td>\n",
       "      <td>-0.692495</td>\n",
       "      <td>-0.229861</td>\n",
       "      <td>0.168345</td>\n",
       "      <td>1.000000</td>\n",
       "      <td>0.794059</td>\n",
       "      <td>0.057534</td>\n",
       "    </tr>\n",
       "    <tr>\n",
       "      <th>gear</th>\n",
       "      <td>0.480285</td>\n",
       "      <td>-0.492687</td>\n",
       "      <td>-0.555569</td>\n",
       "      <td>-0.125704</td>\n",
       "      <td>0.699610</td>\n",
       "      <td>-0.583287</td>\n",
       "      <td>-0.212682</td>\n",
       "      <td>0.206023</td>\n",
       "      <td>0.794059</td>\n",
       "      <td>1.000000</td>\n",
       "      <td>0.274073</td>\n",
       "    </tr>\n",
       "    <tr>\n",
       "      <th>carb</th>\n",
       "      <td>-0.550925</td>\n",
       "      <td>0.526988</td>\n",
       "      <td>0.394977</td>\n",
       "      <td>0.749812</td>\n",
       "      <td>-0.090790</td>\n",
       "      <td>0.427606</td>\n",
       "      <td>-0.656249</td>\n",
       "      <td>-0.569607</td>\n",
       "      <td>0.057534</td>\n",
       "      <td>0.274073</td>\n",
       "      <td>1.000000</td>\n",
       "    </tr>\n",
       "  </tbody>\n",
       "</table>\n",
       "</div>"
      ],
      "text/plain": [
       "           mpg       cyl      disp        hp      drat        wt      qsec  \\\n",
       "mpg   1.000000 -0.852162 -0.847551 -0.776168  0.681172 -0.867659  0.418684   \n",
       "cyl  -0.852162  1.000000  0.902033  0.832447 -0.699938  0.782496 -0.591242   \n",
       "disp -0.847551  0.902033  1.000000  0.790949 -0.710214  0.887980 -0.433698   \n",
       "hp   -0.776168  0.832447  0.790949  1.000000 -0.448759  0.658748 -0.708223   \n",
       "drat  0.681172 -0.699938 -0.710214 -0.448759  1.000000 -0.712441  0.091205   \n",
       "wt   -0.867659  0.782496  0.887980  0.658748 -0.712441  1.000000 -0.174716   \n",
       "qsec  0.418684 -0.591242 -0.433698 -0.708223  0.091205 -0.174716  1.000000   \n",
       "vs    0.664039 -0.810812 -0.710416 -0.723097  0.440278 -0.554916  0.744535   \n",
       "am    0.599832 -0.522607 -0.591227 -0.243204  0.712711 -0.692495 -0.229861   \n",
       "gear  0.480285 -0.492687 -0.555569 -0.125704  0.699610 -0.583287 -0.212682   \n",
       "carb -0.550925  0.526988  0.394977  0.749812 -0.090790  0.427606 -0.656249   \n",
       "\n",
       "            vs        am      gear      carb  \n",
       "mpg   0.664039  0.599832  0.480285 -0.550925  \n",
       "cyl  -0.810812 -0.522607 -0.492687  0.526988  \n",
       "disp -0.710416 -0.591227 -0.555569  0.394977  \n",
       "hp   -0.723097 -0.243204 -0.125704  0.749812  \n",
       "drat  0.440278  0.712711  0.699610 -0.090790  \n",
       "wt   -0.554916 -0.692495 -0.583287  0.427606  \n",
       "qsec  0.744535 -0.229861 -0.212682 -0.656249  \n",
       "vs    1.000000  0.168345  0.206023 -0.569607  \n",
       "am    0.168345  1.000000  0.794059  0.057534  \n",
       "gear  0.206023  0.794059  1.000000  0.274073  \n",
       "carb -0.569607  0.057534  0.274073  1.000000  "
      ]
     },
     "execution_count": 52,
     "metadata": {},
     "output_type": "execute_result"
    }
   ],
   "source": [
    "cars.corr()"
   ]
  },
  {
   "cell_type": "code",
   "execution_count": 53,
   "metadata": {},
   "outputs": [],
   "source": [
    "# x and y values\n",
    "X=cars.iloc[:,[4,6,7,8,9]].values\n",
    "y= cars.iloc[:,1].values"
   ]
  },
  {
   "cell_type": "code",
   "execution_count": 54,
   "metadata": {
    "scrolled": true
   },
   "outputs": [
    {
     "data": {
      "text/plain": [
       "array([[110.   ,   2.62 ,  16.46 ,   0.   ,   1.   ],\n",
       "       [110.   ,   2.875,  17.02 ,   0.   ,   1.   ],\n",
       "       [ 93.   ,   2.32 ,  18.61 ,   1.   ,   1.   ],\n",
       "       [110.   ,   3.215,  19.44 ,   1.   ,   0.   ],\n",
       "       [175.   ,   3.44 ,  17.02 ,   0.   ,   0.   ],\n",
       "       [105.   ,   3.46 ,  20.22 ,   1.   ,   0.   ],\n",
       "       [245.   ,   3.57 ,  15.84 ,   0.   ,   0.   ],\n",
       "       [ 62.   ,   3.19 ,  20.   ,   1.   ,   0.   ],\n",
       "       [ 95.   ,   3.15 ,  22.9  ,   1.   ,   0.   ],\n",
       "       [123.   ,   3.44 ,  18.3  ,   1.   ,   0.   ],\n",
       "       [123.   ,   3.44 ,  18.9  ,   1.   ,   0.   ],\n",
       "       [180.   ,   4.07 ,  17.4  ,   0.   ,   0.   ],\n",
       "       [180.   ,   3.73 ,  17.6  ,   0.   ,   0.   ],\n",
       "       [180.   ,   3.78 ,  18.   ,   0.   ,   0.   ],\n",
       "       [205.   ,   5.25 ,  17.98 ,   0.   ,   0.   ],\n",
       "       [215.   ,   5.424,  17.82 ,   0.   ,   0.   ],\n",
       "       [230.   ,   5.345,  17.42 ,   0.   ,   0.   ],\n",
       "       [ 66.   ,   2.2  ,  19.47 ,   1.   ,   1.   ],\n",
       "       [ 52.   ,   1.615,  18.52 ,   1.   ,   1.   ],\n",
       "       [ 65.   ,   1.835,  19.9  ,   1.   ,   1.   ],\n",
       "       [ 97.   ,   2.465,  20.01 ,   1.   ,   0.   ],\n",
       "       [150.   ,   3.52 ,  16.87 ,   0.   ,   0.   ],\n",
       "       [150.   ,   3.435,  17.3  ,   0.   ,   0.   ],\n",
       "       [245.   ,   3.84 ,  15.41 ,   0.   ,   0.   ],\n",
       "       [175.   ,   3.845,  17.05 ,   0.   ,   0.   ],\n",
       "       [ 66.   ,   1.935,  18.9  ,   1.   ,   1.   ],\n",
       "       [ 91.   ,   2.14 ,  16.7  ,   0.   ,   1.   ],\n",
       "       [113.   ,   1.513,  16.9  ,   1.   ,   1.   ],\n",
       "       [264.   ,   3.17 ,  14.5  ,   0.   ,   1.   ],\n",
       "       [175.   ,   2.77 ,  15.5  ,   0.   ,   1.   ],\n",
       "       [335.   ,   3.57 ,  14.6  ,   0.   ,   1.   ],\n",
       "       [109.   ,   2.78 ,  18.6  ,   1.   ,   1.   ]])"
      ]
     },
     "execution_count": 54,
     "metadata": {},
     "output_type": "execute_result"
    }
   ],
   "source": [
    "X"
   ]
  },
  {
   "cell_type": "code",
   "execution_count": 55,
   "metadata": {},
   "outputs": [
    {
     "data": {
      "text/plain": [
       "array([21. , 21. , 22.8, 21.4, 18.7, 18.1, 14.3, 24.4, 22.8, 19.2, 17.8,\n",
       "       16.4, 17.3, 15.2, 10.4, 10.4, 14.7, 32.4, 30.4, 33.9, 21.5, 15.5,\n",
       "       15.2, 13.3, 19.2, 27.3, 26. , 30.4, 15.8, 19.7, 15. , 21.4])"
      ]
     },
     "execution_count": 55,
     "metadata": {},
     "output_type": "execute_result"
    }
   ],
   "source": [
    "y"
   ]
  },
  {
   "cell_type": "code",
   "execution_count": 56,
   "metadata": {},
   "outputs": [],
   "source": [
    "from sklearn.model_selection import train_test_split  #  library for training and testing process"
   ]
  },
  {
   "cell_type": "code",
   "execution_count": 57,
   "metadata": {},
   "outputs": [],
   "source": [
    "X_train,X_test,y_train,y_test= train_test_split(X,y, test_size=0.30 , random_state=12) # by default 70 for train and 30 for test "
   ]
  },
  {
   "cell_type": "code",
   "execution_count": 58,
   "metadata": {},
   "outputs": [],
   "source": [
    "from sklearn.linear_model import LinearRegression # to import library for model"
   ]
  },
  {
   "cell_type": "code",
   "execution_count": 59,
   "metadata": {},
   "outputs": [],
   "source": [
    "model_lr= LinearRegression()   # adding the model"
   ]
  },
  {
   "cell_type": "code",
   "execution_count": 60,
   "metadata": {},
   "outputs": [],
   "source": [
    "results=model_lr.fit(X_train,y_train)  # fitting the model"
   ]
  },
  {
   "cell_type": "code",
   "execution_count": 61,
   "metadata": {},
   "outputs": [],
   "source": [
    "# predictions\n",
    "y_predict=model_lr.predict(X_test)"
   ]
  },
  {
   "cell_type": "code",
   "execution_count": 62,
   "metadata": {},
   "outputs": [],
   "source": [
    "from sklearn.metrics import r2_score \n"
   ]
  },
  {
   "cell_type": "code",
   "execution_count": 63,
   "metadata": {},
   "outputs": [
    {
     "data": {
      "text/plain": [
       "0.8901579350569321"
      ]
     },
     "execution_count": 63,
     "metadata": {},
     "output_type": "execute_result"
    }
   ],
   "source": [
    "r2_score(y_test, y_predict)"
   ]
  },
  {
   "cell_type": "code",
   "execution_count": 64,
   "metadata": {},
   "outputs": [
    {
     "data": {
      "text/plain": [
       "array([24.4, 19.2, 30.4, 10.4, 21. , 13.3, 18.7, 10.4, 27.3, 19.2])"
      ]
     },
     "execution_count": 64,
     "metadata": {},
     "output_type": "execute_result"
    }
   ],
   "source": [
    "y_test"
   ]
  },
  {
   "cell_type": "code",
   "execution_count": 65,
   "metadata": {},
   "outputs": [
    {
     "data": {
      "text/plain": [
       "array([21.5464909 , 15.06973255, 28.99325406, 11.83507105, 23.32009486,\n",
       "       12.22252765, 16.11981385, 11.04090211, 28.32291539, 18.09619097])"
      ]
     },
     "execution_count": 65,
     "metadata": {},
     "output_type": "execute_result"
    }
   ],
   "source": [
    "y_predict"
   ]
  },
  {
   "cell_type": "code",
   "execution_count": 66,
   "metadata": {},
   "outputs": [
    {
     "data": {
      "text/plain": [
       "<matplotlib.axes._subplots.AxesSubplot at 0x7fa1e80876a0>"
      ]
     },
     "execution_count": 66,
     "metadata": {},
     "output_type": "execute_result"
    },
    {
     "data": {
      "image/png": "[encoded data removed]",
      "text/plain": [
       "<Figure size 432x288 with 1 Axes>"
      ]
     },
     "metadata": {
      "needs_background": "light"
     },
     "output_type": "display_data"
    }
   ],
   "source": [
    "sb.regplot(y_test, y_predict)"
   ]
  },
  {
   "cell_type": "code",
   "execution_count": 67,
   "metadata": {},
   "outputs": [
    {
     "data": {
      "text/plain": [
       "array([-0.01582159, -2.67197369,  1.06893483, -0.2145824 ,  4.6622122 ])"
      ]
     },
     "execution_count": 67,
     "metadata": {},
     "output_type": "execute_result"
    }
   ],
   "source": [
    "model_lr.coef_"
   ]
  },
  {
   "cell_type": "code",
   "execution_count": 68,
   "metadata": {},
   "outputs": [
    {
     "data": {
      "text/plain": [
       "9.88691168608725"
      ]
     },
     "execution_count": 68,
     "metadata": {},
     "output_type": "execute_result"
    }
   ],
   "source": [
    "model_lr.intercept_"
   ]
  },
  {
   "cell_type": "code",
   "execution_count": 69,
   "metadata": {},
   "outputs": [],
   "source": [
    "from sklearn.metrics import mean_squared_error, mean_absolute_error"
   ]
  },
  {
   "cell_type": "code",
   "execution_count": 70,
   "metadata": {},
   "outputs": [
    {
     "name": "stdout",
     "output_type": "stream",
     "text": [
      "MAE 1.85709734172627\n",
      "MSE 4.511663959678066\n",
      "RMSE 2.124067786036516\n"
     ]
    }
   ],
   "source": [
    "print(\"MAE\", mean_absolute_error(y_test, y_predict))\n",
    "print(\"MSE\", mean_squared_error(y_test,  y_predict))\n",
    "print(\"RMSE\", np.sqrt(mean_squared_error(y_test,  y_predict)))"
   ]
  },
  {
   "cell_type": "code",
   "execution_count": 71,
   "metadata": {},
   "outputs": [],
   "source": [
    "from sklearn.metrics import mean_squared_error\n",
    "from sklearn.preprocessing import PolynomialFeatures\n",
    "from sklearn.linear_model import LinearRegression\n"
   ]
  },
  {
   "cell_type": "code",
   "execution_count": 72,
   "metadata": {},
   "outputs": [
    {
     "name": "stdout",
     "output_type": "stream",
     "text": [
      "2.3962996367785423\n",
      "0.8218095987566334\n",
      "2.124067786036518\n",
      "0.8901579350569319\n"
     ]
    }
   ],
   "source": [
    "polynomial_features= PolynomialFeatures(degree=1)\n",
    "x_poly = polynomial_features.fit_transform(X_train)\n",
    "\n",
    "model = LinearRegression()\n",
    "model.fit(x_poly, y_train)\n",
    "y_poly_pred = model.predict(x_poly)\n",
    "y_polytest_pred=model.predict(polynomial_features.fit_transform(X_test))\n",
    "\n",
    "rmse = np.sqrt(mean_squared_error(y_train,y_poly_pred))\n",
    "r2 = r2_score(y_train,y_poly_pred)\n",
    "\n",
    "rmse_test = np.sqrt(mean_squared_error(y_test,y_polytest_pred))\n",
    "r2_test = r2_score(y_test,y_polytest_pred)\n",
    "print(rmse)\n",
    "print(r2)\n",
    "print(rmse_test)\n",
    "print(r2_test)"
   ]
  },
  {
   "cell_type": "markdown",
   "metadata": {},
   "source": [
    "x_poly.astype(int)"
   ]
  },
  {
   "cell_type": "code",
   "execution_count": 73,
   "metadata": {},
   "outputs": [
    {
     "data": {
      "text/plain": [
       "<matplotlib.axes._subplots.AxesSubplot at 0x7fa1e80fe7f0>"
      ]
     },
     "execution_count": 73,
     "metadata": {},
     "output_type": "execute_result"
    },
    {
     "data": {
      "image/png": "[encoded data removed]",
      "text/plain": [
       "<Figure size 432x288 with 1 Axes>"
      ]
     },
     "metadata": {
      "needs_background": "light"
     },
     "output_type": "display_data"
    }
   ],
   "source": [
    "sb.regplot(y_test,y_polytest_pred)"
   ]
  },
  {
   "cell_type": "code",
   "execution_count": 74,
   "metadata": {},
   "outputs": [
    {
     "name": "stdout",
     "output_type": "stream",
     "text": [
      "0.6413563594406354\n",
      "0.987235586262252\n"
     ]
    }
   ],
   "source": [
    "polynomial_features= PolynomialFeatures(degree=2)\n",
    "x_poly = polynomial_features.fit_transform(X_train)\n",
    "\n",
    "model = LinearRegression()\n",
    "model.fit(x_poly, y_train)\n",
    "y_poly_pred = model.predict(x_poly)\n",
    "y_polytest_pred=model.predict(polynomial_features.fit_transform(X_test))\n",
    "\n",
    "rmse = np.sqrt(mean_squared_error(y_train,y_poly_pred))\n",
    "r2 = r2_score(y_train,y_poly_pred)\n",
    "\n",
    "\n",
    "print(rmse)\n",
    "print(r2)\n"
   ]
  },
  {
   "cell_type": "code",
   "execution_count": 75,
   "metadata": {},
   "outputs": [
    {
     "data": {
      "text/plain": [
       "<matplotlib.axes._subplots.AxesSubplot at 0x7fa1e80550f0>"
      ]
     },
     "execution_count": 75,
     "metadata": {},
     "output_type": "execute_result"
    },
    {
     "data": {
      "image/png": "[encoded data removed]",
      "text/plain": [
       "<Figure size 432x288 with 1 Axes>"
      ]
     },
     "metadata": {
      "needs_background": "light"
     },
     "output_type": "display_data"
    }
   ],
   "source": [
    "sb.regplot(y_train,y_poly_pred)"
   ]
  },
  {
   "cell_type": "code",
   "execution_count": 76,
   "metadata": {},
   "outputs": [
    {
     "name": "stdout",
     "output_type": "stream",
     "text": [
      "skew of hp 0.7614356361333623\n",
      "skew of wt 0.44378553550607736\n",
      " kurtosis 0.05223272840399584\n",
      " kurtosis 0.1724705401587343\n"
     ]
    },
    {
     "data": {
      "image/png": "[encoded data removed]",
      "text/plain": [
       "<Figure size 432x288 with 1 Axes>"
      ]
     },
     "metadata": {
      "needs_background": "light"
     },
     "output_type": "display_data"
    }
   ],
   "source": [
    "from scipy import stats\n",
    "sb.distplot(cars.hp)\n",
    "\n",
    "print(\"skew of hp\", stats.skew(cars.hp))\n",
    "print(\"skew of wt\", stats.skew(cars.wt))\n",
    "\n",
    "print(\" kurtosis\", stats.kurtosis(cars.hp))\n",
    "print(\" kurtosis\", stats.kurtosis(cars.wt))"
   ]
  },
  {
   "cell_type": "code",
   "execution_count": 77,
   "metadata": {},
   "outputs": [
    {
     "data": {
      "text/plain": [
       "<matplotlib.axes._subplots.AxesSubplot at 0x7fa1e36e2390>"
      ]
     },
     "execution_count": 77,
     "metadata": {},
     "output_type": "execute_result"
    },
    {
     "data": {
      "image/png": "[encoded data removed]",
      "text/plain": [
       "<Figure size 432x288 with 1 Axes>"
      ]
     },
     "metadata": {
      "needs_background": "light"
     },
     "output_type": "display_data"
    }
   ],
   "source": [
    "sb.distplot(cars.wt)"
   ]
  },
  {
   "cell_type": "code",
   "execution_count": 78,
   "metadata": {},
   "outputs": [
    {
     "data": {
      "text/plain": [
       "array([19.42383903])"
      ]
     },
     "execution_count": 78,
     "metadata": {},
     "output_type": "execute_result"
    }
   ],
   "source": [
    "#For your new values\n",
    "model_lr.predict([[110,2.3,16.5,1.,0.]])"
   ]
  },
  {
   "cell_type": "code",
   "execution_count": null,
   "metadata": {},
   "outputs": [],
   "source": []
  },
  {
   "cell_type": "code",
   "execution_count": null,
   "metadata": {},
   "outputs": [],
   "source": []
  }
 ],
 "metadata": {
  "kernelspec": {
   "display_name": "Python 3",
   "language": "python",
   "name": "python3"
  },
  "language_info": {
   "codemirror_mode": {
    "name": "ipython",
    "version": 3
   },
   "file_extension": ".py",
   "mimetype": "text/x-python",
   "name": "python",
   "nbconvert_exporter": "python",
   "pygments_lexer": "ipython3",
   "version": "3.7.3"
  }
 },
 "nbformat": 4,
 "nbformat_minor": 2
}
